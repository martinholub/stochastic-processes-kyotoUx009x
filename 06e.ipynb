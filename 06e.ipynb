{
 "cells": [
  {
   "cell_type": "markdown",
   "metadata": {},
   "source": [
    "## Model with arbitrary number of dealers:"
   ]
  },
  {
   "cell_type": "markdown",
   "metadata": {},
   "source": [
    "There is $N$ dealers that that follow the rules described already for the two dealer model. The trhansaction occurs when $$\\lvert p_i(t) - p_j(t) \\rvert \\ge L.$$\n",
    "\n",
    "Transaction occurs only for the $i,j$ pair with largest price difference (which must be bigger than spread $L$). The remaining dealers switch their prices to the new market price ($p_k(t+1) = P_{n+1} = \\frac{1}{2}(p_i(t) + p_j(t))$) with a probability $r$ and they keep their old prices with probability $1-r$. Here, $0\\le r\\le 1$  and $r$  is a constant equal for all dealers."
   ]
  },
  {
   "cell_type": "code",
   "execution_count": 1,
   "metadata": {},
   "outputs": [
    {
     "ename": "IndentationError",
     "evalue": "unindent does not match any outer indentation level (<tokenize>, line 10)",
     "output_type": "error",
     "traceback": [
      "\u001b[1;36m  File \u001b[1;32m\"<tokenize>\"\u001b[1;36m, line \u001b[1;32m10\u001b[0m\n\u001b[1;33m    def avgprice(dpn):\u001b[0m\n\u001b[1;37m    ^\u001b[0m\n\u001b[1;31mIndentationError\u001b[0m\u001b[1;31m:\u001b[0m unindent does not match any outer indentation level\n"
     ]
    }
   ],
   "source": [
    "# Code for N dealers with switchin \n",
    "\n",
    "params={'N':100,'r':0.6,'L':0.01,'c':0.01,'dp':0.01,'dt':0.01**2, 'd':1.00, 'M':10} # define model parameters\n",
    "p0 = np.ones(params['N'])*100.25\n",
    "\n",
    "def model2(params,p0,numt):\n",
    "     pswitch  = np.array([params['r'], 1.0-params['r']]) #switching rates \n",
    "    \n",
    "    # compute running average Eq.(L6)\n",
    "    def avgprice(dpn): \n",
    "        M = len(dpn)     \n",
    "        weights  = np.array(range(1,M+1))*2.0/(M*(M+1))\n",
    "        return weights.dot(dpn)\n",
    "    \n",
    "    # return transaction candidate: pair (i,j) with larget price difference\n",
    "    def transactionPair(pt):  \n",
    "        return [np.argmin(pt), np.argmax(pt)]\n",
    "\n",
    "    # update prices for transaction between the two dealers (i,j) and  return new market price \n",
    "    def transactionUpdate(i,j,pt):\n",
    "        newprice = np.average([pt[i], pt[j]])\n",
    "        switch   = np.random.choice([True,False], p=pswitch,size=params['N']) # determine which dealers update price\n",
    "        switch[i]=switch[j]=True\n",
    "        pt[switch] = newprice\n",
    "        return newprice\n",
    "    \n",
    "    # ... variable initializations ...\n",
    "    mktprice = np.zeros(numt)   # initialize market price P(n)\n",
    "    dmktprice= np.zeros(numt)   # initialize change in price dP(n) needed for running average\n",
    "    ticktime = np.zeros(numt,dtype=np.int) #initialize array for tick times\n",
    "    price    = p0               #initialize dealer's mid-price (p1,p2)\n",
    "    time,tick= 0,0 # real time(t) and time time (n)\n",
    "    deltapm  = 0.0 # trend term d <dP>_m dt for current random walk\n",
    "    cdp      = params['c']*params['dp'] # define random step size\n",
    "    ddt      = params['d']*params['dt'] # define amplitude of trend term\n",
    "    \n",
    "    while tick < numt: # loop over ticks\n",
    "        [i,j]    = transactionPair(price)   # transaction candidate\n",
    "        while np.abs(price[i]-price[j]) < params['L']: # transaction criterion Eq.(L1)\n",
    "            price = price + deltapm + np.random.choice([-cdp,cdp], size=params['N']) # random walk step Eq.(L4)\n",
    "            [i,j] = transactionPair(price) # update transaction candidate\n",
    "            time += 1                      # update real time\n",
    "        \n",
    "        mktprice[tick] = transactionUpdate(i,j,price)\n",
    "        \n",
    "        # ... finalize loop ...\n",
    "        dmktprice[tick]= mktprice[tick] - mktprice[np.max([0,tick-1])] # save dP(n) = P(n) - P(n-1)\n",
    "        ticktime[tick] = time # save transaction time\n",
    "        tick += 1             #update ticks\n",
    "        tick0 = np.max([0, tick - params['M']])       #compute tick start for running average\n",
    "        deltapm = avgprice(dmktprice[tick0:tick])*ddt #compute updated trend term for current tick time\n",
    "    return ticktime,mktprice"
   ]
  },
  {
   "cell_type": "markdown",
   "metadata": {},
   "source": [
    "We can come up with yet refined model in that we let parameter $d_i$ to be different for every dealer and change in time:\n",
    "\n",
    "$$p_i(t + \\Delta t) = p_i(t) + d_i\\langle\\Delta P\\rangle_M \\Delta t + c f_i(t), \\qquad i=1,2$$\n",
    "$$d_i = \\bar{d}(n) + \\Delta d_i$$\n",
    "\n",
    "where $\\bar{d}$ is average trend-following effect (changing after each trade) and $\\Delta d_i$, constant for each dealer, given by normal distribution with standard deviation $\\sigma$.\n",
    "\n",
    "The change in $\\bar{d}$ is decribed as:\n",
    "\n",
    "$$\\bar{d}(n+1) = (1 - e_0) \\bar{d}(n) + \\phi(n)$$\n",
    "\n",
    "where $e_0$ is constant ($e_0 \\in [0 , 1]$) and $\\phi(n)$ is independet Bernoulli distributed random noise:\n",
    "$$\\phi(n) = \n",
    "\\begin{cases}\n",
    "+0.01 & \\text{probability 1/2} \\\\\n",
    "-0.01 & \\text{probability 1/2}\n",
    "\\end{cases}$$"
   ]
  },
  {
   "cell_type": "code",
   "execution_count": null,
   "metadata": {
    "collapsed": true
   },
   "outputs": [],
   "source": [
    "# Code for N dealers with switchin and params changig over ticks\n",
    "\n",
    "params={'e0':1e-4,'sigma':0.1,'N':100,'r':0.6,'L':0.01,'c':0.01,'dp':0.01,'dt':0.01**2, 'd':1.00, 'M':10} # define model parameters\n",
    "p0  = np.ones(params['N'])*100.25\n",
    "\n",
    "def model2(params,p0,numt):\n",
    "     pswitch  = np.array([params['r'], 1.0-params['r']]) #switching rates \n",
    "    \n",
    "    # compute running average Eq.(L6)\n",
    "    def avgprice(dpn): \n",
    "        M = len(dpn)     \n",
    "        weights  = np.array(range(1,M+1))*2.0/(M*(M+1))\n",
    "        return weights.dot(dpn)\n",
    "    \n",
    "    # return transaction candidate: pair (i,j) with larget price difference\n",
    "    def transactionPair(pt):  \n",
    "        return [np.argmin(pt), np.argmax(pt)]\n",
    "\n",
    "    # update prices for transaction between the two dealers (i,j) and  return new market price \n",
    "    def transactionUpdate(i,j,pt):\n",
    "        newprice = np.average([pt[i], pt[j]])\n",
    "        switch   = np.random.choice([True,False], p=pswitch,size=params['N']) # determine which dealers update price\n",
    "        switch[i]=switch[j]=True\n",
    "        pt[switch] = newprice\n",
    "        return newprice\n",
    "    \n",
    "    # ... variable initializations ...\n",
    "    mktprice = np.zeros(numt)   # initialize market price P(n)\n",
    "    dmktprice= np.zeros(numt)   # initialize change in price dP(n) needed for running average\n",
    "    ticktime = np.zeros(numt,dtype=np.int) #initialize array for tick times\n",
    "    price    = p0               #initialize dealer's mid-price (p1,p2)\n",
    "    time,tick= 0,0 # real time(t) and time time (n)\n",
    "    deltapm  = 0.0 # trend term d <dP>_m dt for current random walk\n",
    "    dbar     = params['d']                                   # define average trend following effect \\bar{d}\n",
    "    di       = params['sigma']*np.random.randn(params['N'])  # trend following parameter for dealer i\n",
    "\n",
    "    \n",
    "    while tick < numt: # loop over ticks\n",
    "        [i,j]    = transactionPair(price)   # transaction candidate\n",
    "        while np.abs(price[i]-price[j]) < params['L']: # transaction criterion Eq.(L1)\n",
    "            price = price + deltapm*(dbar+di) + np.random.choice([-cdp,cdp], size=params['N']) # random walk step Eq.(L4)\n",
    "            [i,j] = transactionPair(price) # update transaction candidate\n",
    "            time += 1                      # update real time\n",
    "        \n",
    "        dbar = (1.0 - params['e0'])*dbar + np.random.choice([0.01,-0.01])      \n",
    "        mktprice[tick] = transactionUpdate(i,j,price)\n",
    "        \n",
    "        # ... finalize loop ...\n",
    "        dmktprice[tick]= mktprice[tick] - mktprice[np.max([0,tick-1])] # save dP(n) = P(n) - P(n-1)\n",
    "        ticktime[tick] = time # save transaction time\n",
    "        tick += 1             #update ticks\n",
    "        tick0 = np.max([0, tick - params['M']])       #compute tick start for running average\n",
    "        deltapm = avgprice(dmktprice[tick0:tick])*params['dt'] # compute updated trend term for current tick time\n",
    "    return ticktime,mktprice"
   ]
  },
  {
   "cell_type": "code",
   "execution_count": null,
   "metadata": {
    "collapsed": true
   },
   "outputs": [],
   "source": []
  }
 ],
 "metadata": {
  "kernelspec": {
   "display_name": "Python 3",
   "language": "python",
   "name": "python3"
  },
  "language_info": {
   "codemirror_mode": {
    "name": "ipython",
    "version": 3
   },
   "file_extension": ".py",
   "mimetype": "text/x-python",
   "name": "python",
   "nbconvert_exporter": "python",
   "pygments_lexer": "ipython3",
   "version": "3.6.2"
  }
 },
 "nbformat": 4,
 "nbformat_minor": 2
}
